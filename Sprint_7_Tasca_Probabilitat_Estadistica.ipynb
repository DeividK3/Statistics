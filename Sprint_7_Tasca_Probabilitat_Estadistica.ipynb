{
 "cells": [
  {
   "cell_type": "markdown",
   "metadata": {},
   "source": [
    "# Dades, probabilitats i estadístiques"
   ]
  },
  {
   "cell_type": "code",
   "execution_count": 47,
   "metadata": {},
   "outputs": [],
   "source": [
    "# Càrrega de llibreries\n",
    "import pandas as pd\n",
    "import statistics as st\n",
    "from scipy.stats.mstats import gmean\n",
    "from scipy.stats.mstats import hmean\n",
    "import matplotlib.pyplot as plt\n",
    "import seaborn as sns"
   ]
  },
  {
   "cell_type": "markdown",
   "metadata": {},
   "source": [
    "## Exercici 1\n",
    "__Agafa un conjunt de dades de tema esportiu que t'agradi i selecciona un atribut del conjunt de dades. Calcula la moda, la mediana, la desviació estàndard i la mitjana aritmètica.__ "
   ]
  },
  {
   "cell_type": "code",
   "execution_count": 48,
   "metadata": {},
   "outputs": [
    {
     "data": {
      "text/html": [
       "<div>\n",
       "<style scoped>\n",
       "    .dataframe tbody tr th:only-of-type {\n",
       "        vertical-align: middle;\n",
       "    }\n",
       "\n",
       "    .dataframe tbody tr th {\n",
       "        vertical-align: top;\n",
       "    }\n",
       "\n",
       "    .dataframe thead th {\n",
       "        text-align: right;\n",
       "    }\n",
       "</style>\n",
       "<table border=\"1\" class=\"dataframe\">\n",
       "  <thead>\n",
       "    <tr style=\"text-align: right;\">\n",
       "      <th></th>\n",
       "      <th>name</th>\n",
       "      <th>team</th>\n",
       "      <th>position</th>\n",
       "      <th>G</th>\n",
       "      <th>AB</th>\n",
       "      <th>R</th>\n",
       "      <th>H</th>\n",
       "      <th>2B</th>\n",
       "      <th>3B</th>\n",
       "      <th>HR</th>\n",
       "      <th>RBI</th>\n",
       "      <th>TB</th>\n",
       "      <th>BB</th>\n",
       "      <th>SO</th>\n",
       "      <th>SB</th>\n",
       "      <th>CS</th>\n",
       "      <th>OBP</th>\n",
       "      <th>SLG</th>\n",
       "      <th>AVG</th>\n",
       "    </tr>\n",
       "  </thead>\n",
       "  <tbody>\n",
       "    <tr>\n",
       "      <th>0</th>\n",
       "      <td>I Suzuki</td>\n",
       "      <td>SEA</td>\n",
       "      <td>OF</td>\n",
       "      <td>162</td>\n",
       "      <td>680</td>\n",
       "      <td>74</td>\n",
       "      <td>214</td>\n",
       "      <td>30</td>\n",
       "      <td>3</td>\n",
       "      <td>6</td>\n",
       "      <td>43</td>\n",
       "      <td>268</td>\n",
       "      <td>45</td>\n",
       "      <td>86</td>\n",
       "      <td>42</td>\n",
       "      <td>9</td>\n",
       "      <td>0.359</td>\n",
       "      <td>0.394</td>\n",
       "      <td>0.315</td>\n",
       "    </tr>\n",
       "    <tr>\n",
       "      <th>1</th>\n",
       "      <td>D Jeter</td>\n",
       "      <td>NYY</td>\n",
       "      <td>SS</td>\n",
       "      <td>157</td>\n",
       "      <td>663</td>\n",
       "      <td>111</td>\n",
       "      <td>179</td>\n",
       "      <td>30</td>\n",
       "      <td>3</td>\n",
       "      <td>10</td>\n",
       "      <td>67</td>\n",
       "      <td>245</td>\n",
       "      <td>63</td>\n",
       "      <td>106</td>\n",
       "      <td>18</td>\n",
       "      <td>5</td>\n",
       "      <td>0.340</td>\n",
       "      <td>0.370</td>\n",
       "      <td>0.270</td>\n",
       "    </tr>\n",
       "    <tr>\n",
       "      <th>2</th>\n",
       "      <td>M Young</td>\n",
       "      <td>TEX</td>\n",
       "      <td>3B</td>\n",
       "      <td>157</td>\n",
       "      <td>656</td>\n",
       "      <td>99</td>\n",
       "      <td>186</td>\n",
       "      <td>36</td>\n",
       "      <td>3</td>\n",
       "      <td>21</td>\n",
       "      <td>91</td>\n",
       "      <td>291</td>\n",
       "      <td>50</td>\n",
       "      <td>115</td>\n",
       "      <td>4</td>\n",
       "      <td>2</td>\n",
       "      <td>0.330</td>\n",
       "      <td>0.444</td>\n",
       "      <td>0.284</td>\n",
       "    </tr>\n",
       "    <tr>\n",
       "      <th>3</th>\n",
       "      <td>J Pierre</td>\n",
       "      <td>CWS</td>\n",
       "      <td>OF</td>\n",
       "      <td>160</td>\n",
       "      <td>651</td>\n",
       "      <td>96</td>\n",
       "      <td>179</td>\n",
       "      <td>18</td>\n",
       "      <td>3</td>\n",
       "      <td>1</td>\n",
       "      <td>47</td>\n",
       "      <td>206</td>\n",
       "      <td>45</td>\n",
       "      <td>47</td>\n",
       "      <td>68</td>\n",
       "      <td>18</td>\n",
       "      <td>0.341</td>\n",
       "      <td>0.316</td>\n",
       "      <td>0.275</td>\n",
       "    </tr>\n",
       "    <tr>\n",
       "      <th>4</th>\n",
       "      <td>R Weeks</td>\n",
       "      <td>MIL</td>\n",
       "      <td>2B</td>\n",
       "      <td>160</td>\n",
       "      <td>651</td>\n",
       "      <td>112</td>\n",
       "      <td>175</td>\n",
       "      <td>32</td>\n",
       "      <td>4</td>\n",
       "      <td>29</td>\n",
       "      <td>83</td>\n",
       "      <td>302</td>\n",
       "      <td>76</td>\n",
       "      <td>184</td>\n",
       "      <td>11</td>\n",
       "      <td>4</td>\n",
       "      <td>0.366</td>\n",
       "      <td>0.464</td>\n",
       "      <td>0.269</td>\n",
       "    </tr>\n",
       "  </tbody>\n",
       "</table>\n",
       "</div>"
      ],
      "text/plain": [
       "       name team position    G   AB    R    H  2B  3B  HR  RBI   TB  BB   SO  \\\n",
       "0  I Suzuki  SEA       OF  162  680   74  214  30   3   6   43  268  45   86   \n",
       "1   D Jeter  NYY       SS  157  663  111  179  30   3  10   67  245  63  106   \n",
       "2   M Young  TEX       3B  157  656   99  186  36   3  21   91  291  50  115   \n",
       "3  J Pierre  CWS       OF  160  651   96  179  18   3   1   47  206  45   47   \n",
       "4   R Weeks  MIL       2B  160  651  112  175  32   4  29   83  302  76  184   \n",
       "\n",
       "   SB  CS    OBP    SLG    AVG  \n",
       "0  42   9  0.359  0.394  0.315  \n",
       "1  18   5  0.340  0.370  0.270  \n",
       "2   4   2  0.330  0.444  0.284  \n",
       "3  68  18  0.341  0.316  0.275  \n",
       "4  11   4  0.366  0.464  0.269  "
      ]
     },
     "execution_count": 48,
     "metadata": {},
     "output_type": "execute_result"
    }
   ],
   "source": [
    "# Importació de la base de dades\n",
    "dades_bat10 = pd.read_csv('mlbBat10.txt', sep='\\t', encoding='UTF-8')\n",
    "dades_bat10.head()"
   ]
  },
  {
   "cell_type": "markdown",
   "metadata": {},
   "source": [
    "<span style='color:blue; font-size:18px'> <b> Descripció de les variables </b> </span>"
   ]
  },
  {
   "cell_type": "markdown",
   "metadata": {},
   "source": [
    "- G: Nombre de partits jugats\n",
    "- AB: Nombre d'intents de cop de bat\n",
    "- R: Nombre de carreres\n",
    "- H: Nombre de cops de bat\n",
    "- 2B: Nombre de dobles\n",
    "- 3B: Nombre de triples\n",
    "- HR: Nombre de Homeruns\n",
    "- RBI: Nombre de carreres impulsades (carreres que arriben al home amb un cop de bat)\n",
    "- TB: Bases totals, 3*HR + 2*3B + 2B + H\n",
    "- BB: Nombre de Base per boles\n",
    "- SO: Nombre de Strikeouts\n",
    "- SB: Nombre de robatoris de base\n",
    "- CS: Nombre de vegades de robatoris enxampats\n",
    "- OBP: Percentatge de Bases, freqüència amb que un batedor arriba a la base\n",
    "- SLG: Productivitat del batedor (TB /AB)\n",
    "- AVG: Promig de cops de bat (H / AB)"
   ]
  },
  {
   "cell_type": "markdown",
   "metadata": {},
   "source": [
    "<span style='color:blue; font-size:18px'> <b> Dimensió i informació de la base de dades </b> </span>"
   ]
  },
  {
   "cell_type": "code",
   "execution_count": 49,
   "metadata": {},
   "outputs": [
    {
     "data": {
      "text/plain": [
       "(1199, 19)"
      ]
     },
     "execution_count": 49,
     "metadata": {},
     "output_type": "execute_result"
    }
   ],
   "source": [
    "# Dimensió de la base de dades\n",
    "dades_bat10.shape"
   ]
  },
  {
   "cell_type": "code",
   "execution_count": 50,
   "metadata": {},
   "outputs": [
    {
     "name": "stdout",
     "output_type": "stream",
     "text": [
      "<class 'pandas.core.frame.DataFrame'>\n",
      "RangeIndex: 1199 entries, 0 to 1198\n",
      "Data columns (total 19 columns):\n",
      " #   Column    Non-Null Count  Dtype  \n",
      "---  ------    --------------  -----  \n",
      " 0   name      1199 non-null   object \n",
      " 1   team      1199 non-null   object \n",
      " 2   position  1199 non-null   object \n",
      " 3   G         1199 non-null   int64  \n",
      " 4   AB        1199 non-null   int64  \n",
      " 5   R         1199 non-null   int64  \n",
      " 6   H         1199 non-null   int64  \n",
      " 7   2B        1199 non-null   int64  \n",
      " 8   3B        1199 non-null   int64  \n",
      " 9   HR        1199 non-null   int64  \n",
      " 10  RBI       1199 non-null   int64  \n",
      " 11  TB        1199 non-null   int64  \n",
      " 12  BB        1199 non-null   int64  \n",
      " 13  SO        1199 non-null   int64  \n",
      " 14  SB        1199 non-null   int64  \n",
      " 15  CS        1199 non-null   int64  \n",
      " 16  OBP       1199 non-null   float64\n",
      " 17  SLG       1199 non-null   float64\n",
      " 18  AVG       1199 non-null   float64\n",
      "dtypes: float64(3), int64(13), object(3)\n",
      "memory usage: 178.1+ KB\n"
     ]
    }
   ],
   "source": [
    "# Informació de la base de dades\n",
    "dades_bat10.info()"
   ]
  },
  {
   "cell_type": "markdown",
   "metadata": {},
   "source": [
    "<span style='color:blue; font-size:18px'> <b> Càlcul d'estadístics: Nombre de cops de bat (H) </b> </span>"
   ]
  },
  {
   "cell_type": "code",
   "execution_count": 51,
   "metadata": {},
   "outputs": [
    {
     "data": {
      "text/plain": [
       "0"
      ]
     },
     "execution_count": 51,
     "metadata": {},
     "output_type": "execute_result"
    }
   ],
   "source": [
    "# Moda\n",
    "st.mode(dades_bat10['H'])"
   ]
  },
  {
   "cell_type": "code",
   "execution_count": 52,
   "metadata": {},
   "outputs": [
    {
     "data": {
      "text/plain": [
       "407"
      ]
     },
     "execution_count": 52,
     "metadata": {},
     "output_type": "execute_result"
    }
   ],
   "source": [
    "sum(dades_bat10['H'] == 0)"
   ]
  },
  {
   "cell_type": "markdown",
   "metadata": {},
   "source": [
    "<span style='color:blue'> La moda (el valor que més es repeteix) és 0 cops de bat i apareix 407 vegades </span>"
   ]
  },
  {
   "cell_type": "code",
   "execution_count": 53,
   "metadata": {
    "scrolled": true
   },
   "outputs": [
    {
     "data": {
      "text/plain": [
       "6"
      ]
     },
     "execution_count": 53,
     "metadata": {},
     "output_type": "execute_result"
    }
   ],
   "source": [
    "# Mediana\n",
    "st.median(dades_bat10['H'])"
   ]
  },
  {
   "cell_type": "markdown",
   "metadata": {},
   "source": [
    "<span style='color:blue'> La mediana (el valor que deixa per sota el 50% de les observacions ordenades) és 6 cops de bat </span>"
   ]
  },
  {
   "cell_type": "code",
   "execution_count": 54,
   "metadata": {},
   "outputs": [
    {
     "data": {
      "text/plain": [
       "51.90849836051625"
      ]
     },
     "execution_count": 54,
     "metadata": {},
     "output_type": "execute_result"
    }
   ],
   "source": [
    "# Desviació estàdard\n",
    "st.stdev(dades_bat10['H'])"
   ]
  },
  {
   "cell_type": "markdown",
   "metadata": {},
   "source": [
    "<span style='color:blue'> La desviació estàndard és de 51.9085 cops de bat </span>"
   ]
  },
  {
   "cell_type": "code",
   "execution_count": 55,
   "metadata": {},
   "outputs": [
    {
     "data": {
      "text/plain": [
       "35.491242702251874"
      ]
     },
     "execution_count": 55,
     "metadata": {},
     "output_type": "execute_result"
    }
   ],
   "source": [
    "# Mitjana aritmètica\n",
    "dades_bat10['H'].mean()"
   ]
  },
  {
   "cell_type": "markdown",
   "metadata": {},
   "source": [
    "<span style='color:blue'> La mitjana aritmètica és de 35.4912 cops de bat </span>"
   ]
  },
  {
   "cell_type": "markdown",
   "metadata": {},
   "source": [
    "## Exercici 2\n",
    "__Continuant amb les dades de tema esportiu, selecciona dos atributs i calcula'n la seva correlació.__"
   ]
  },
  {
   "cell_type": "markdown",
   "metadata": {},
   "source": [
    "<span style='color:blue; font-size:18px'> <b> Correlació entre HR (Home Runs) i AVG (promig de cop de bats) </b> </span>"
   ]
  },
  {
   "cell_type": "code",
   "execution_count": 56,
   "metadata": {},
   "outputs": [
    {
     "data": {
      "text/html": [
       "<div>\n",
       "<style scoped>\n",
       "    .dataframe tbody tr th:only-of-type {\n",
       "        vertical-align: middle;\n",
       "    }\n",
       "\n",
       "    .dataframe tbody tr th {\n",
       "        vertical-align: top;\n",
       "    }\n",
       "\n",
       "    .dataframe thead th {\n",
       "        text-align: right;\n",
       "    }\n",
       "</style>\n",
       "<table border=\"1\" class=\"dataframe\">\n",
       "  <thead>\n",
       "    <tr style=\"text-align: right;\">\n",
       "      <th></th>\n",
       "      <th>HR</th>\n",
       "      <th>AVG</th>\n",
       "    </tr>\n",
       "  </thead>\n",
       "  <tbody>\n",
       "    <tr>\n",
       "      <th>HR</th>\n",
       "      <td>1.000000</td>\n",
       "      <td>0.385235</td>\n",
       "    </tr>\n",
       "    <tr>\n",
       "      <th>AVG</th>\n",
       "      <td>0.385235</td>\n",
       "      <td>1.000000</td>\n",
       "    </tr>\n",
       "  </tbody>\n",
       "</table>\n",
       "</div>"
      ],
      "text/plain": [
       "           HR       AVG\n",
       "HR   1.000000  0.385235\n",
       "AVG  0.385235  1.000000"
      ]
     },
     "execution_count": 56,
     "metadata": {},
     "output_type": "execute_result"
    }
   ],
   "source": [
    "# Correlació\n",
    "dades_bat10[['HR','AVG']].corr()"
   ]
  },
  {
   "cell_type": "markdown",
   "metadata": {},
   "source": [
    "<span style='color:blue'> Existeix una dependència lineal positiva feble entre HR i AVG, que és de 0.3852. </span>"
   ]
  },
  {
   "cell_type": "markdown",
   "metadata": {},
   "source": [
    "## Exercici 3\n",
    "__Continuant amb les dades de tema esportiu, calcula la correlació de tots els atributs entre sí i representa'ls en una matriu amb diferents colors d'intensitat.__"
   ]
  },
  {
   "cell_type": "code",
   "execution_count": 57,
   "metadata": {},
   "outputs": [
    {
     "data": {
      "text/html": [
       "<div>\n",
       "<style scoped>\n",
       "    .dataframe tbody tr th:only-of-type {\n",
       "        vertical-align: middle;\n",
       "    }\n",
       "\n",
       "    .dataframe tbody tr th {\n",
       "        vertical-align: top;\n",
       "    }\n",
       "\n",
       "    .dataframe thead th {\n",
       "        text-align: right;\n",
       "    }\n",
       "</style>\n",
       "<table border=\"1\" class=\"dataframe\">\n",
       "  <thead>\n",
       "    <tr style=\"text-align: right;\">\n",
       "      <th></th>\n",
       "      <th>G</th>\n",
       "      <th>AB</th>\n",
       "      <th>R</th>\n",
       "      <th>H</th>\n",
       "      <th>2B</th>\n",
       "      <th>3B</th>\n",
       "      <th>HR</th>\n",
       "      <th>RBI</th>\n",
       "      <th>TB</th>\n",
       "      <th>BB</th>\n",
       "      <th>SO</th>\n",
       "      <th>SB</th>\n",
       "      <th>CS</th>\n",
       "      <th>OBP</th>\n",
       "      <th>SLG</th>\n",
       "      <th>AVG</th>\n",
       "    </tr>\n",
       "  </thead>\n",
       "  <tbody>\n",
       "    <tr>\n",
       "      <th>G</th>\n",
       "      <td>1.000000</td>\n",
       "      <td>0.938213</td>\n",
       "      <td>0.903774</td>\n",
       "      <td>0.924026</td>\n",
       "      <td>0.890881</td>\n",
       "      <td>0.625684</td>\n",
       "      <td>0.765198</td>\n",
       "      <td>0.880960</td>\n",
       "      <td>0.914098</td>\n",
       "      <td>0.858526</td>\n",
       "      <td>0.879365</td>\n",
       "      <td>0.561894</td>\n",
       "      <td>0.629483</td>\n",
       "      <td>0.473870</td>\n",
       "      <td>0.484002</td>\n",
       "      <td>0.463894</td>\n",
       "    </tr>\n",
       "    <tr>\n",
       "      <th>AB</th>\n",
       "      <td>0.938213</td>\n",
       "      <td>1.000000</td>\n",
       "      <td>0.970168</td>\n",
       "      <td>0.991519</td>\n",
       "      <td>0.954346</td>\n",
       "      <td>0.662491</td>\n",
       "      <td>0.816416</td>\n",
       "      <td>0.939538</td>\n",
       "      <td>0.979084</td>\n",
       "      <td>0.906541</td>\n",
       "      <td>0.921892</td>\n",
       "      <td>0.614504</td>\n",
       "      <td>0.678982</td>\n",
       "      <td>0.502603</td>\n",
       "      <td>0.513554</td>\n",
       "      <td>0.497166</td>\n",
       "    </tr>\n",
       "    <tr>\n",
       "      <th>R</th>\n",
       "      <td>0.903774</td>\n",
       "      <td>0.970168</td>\n",
       "      <td>1.000000</td>\n",
       "      <td>0.977381</td>\n",
       "      <td>0.949386</td>\n",
       "      <td>0.684214</td>\n",
       "      <td>0.859812</td>\n",
       "      <td>0.945531</td>\n",
       "      <td>0.981973</td>\n",
       "      <td>0.925169</td>\n",
       "      <td>0.907874</td>\n",
       "      <td>0.642059</td>\n",
       "      <td>0.684150</td>\n",
       "      <td>0.486126</td>\n",
       "      <td>0.507882</td>\n",
       "      <td>0.476034</td>\n",
       "    </tr>\n",
       "    <tr>\n",
       "      <th>H</th>\n",
       "      <td>0.924026</td>\n",
       "      <td>0.991519</td>\n",
       "      <td>0.977381</td>\n",
       "      <td>1.000000</td>\n",
       "      <td>0.964365</td>\n",
       "      <td>0.665552</td>\n",
       "      <td>0.822227</td>\n",
       "      <td>0.945025</td>\n",
       "      <td>0.987289</td>\n",
       "      <td>0.900749</td>\n",
       "      <td>0.897921</td>\n",
       "      <td>0.617696</td>\n",
       "      <td>0.681796</td>\n",
       "      <td>0.498144</td>\n",
       "      <td>0.513439</td>\n",
       "      <td>0.497997</td>\n",
       "    </tr>\n",
       "    <tr>\n",
       "      <th>2B</th>\n",
       "      <td>0.890881</td>\n",
       "      <td>0.954346</td>\n",
       "      <td>0.949386</td>\n",
       "      <td>0.964365</td>\n",
       "      <td>1.000000</td>\n",
       "      <td>0.608029</td>\n",
       "      <td>0.836845</td>\n",
       "      <td>0.941710</td>\n",
       "      <td>0.971456</td>\n",
       "      <td>0.890788</td>\n",
       "      <td>0.882539</td>\n",
       "      <td>0.530795</td>\n",
       "      <td>0.592942</td>\n",
       "      <td>0.482109</td>\n",
       "      <td>0.511973</td>\n",
       "      <td>0.477903</td>\n",
       "    </tr>\n",
       "  </tbody>\n",
       "</table>\n",
       "</div>"
      ],
      "text/plain": [
       "           G        AB         R         H        2B        3B        HR  \\\n",
       "G   1.000000  0.938213  0.903774  0.924026  0.890881  0.625684  0.765198   \n",
       "AB  0.938213  1.000000  0.970168  0.991519  0.954346  0.662491  0.816416   \n",
       "R   0.903774  0.970168  1.000000  0.977381  0.949386  0.684214  0.859812   \n",
       "H   0.924026  0.991519  0.977381  1.000000  0.964365  0.665552  0.822227   \n",
       "2B  0.890881  0.954346  0.949386  0.964365  1.000000  0.608029  0.836845   \n",
       "\n",
       "         RBI        TB        BB        SO        SB        CS       OBP  \\\n",
       "G   0.880960  0.914098  0.858526  0.879365  0.561894  0.629483  0.473870   \n",
       "AB  0.939538  0.979084  0.906541  0.921892  0.614504  0.678982  0.502603   \n",
       "R   0.945531  0.981973  0.925169  0.907874  0.642059  0.684150  0.486126   \n",
       "H   0.945025  0.987289  0.900749  0.897921  0.617696  0.681796  0.498144   \n",
       "2B  0.941710  0.971456  0.890788  0.882539  0.530795  0.592942  0.482109   \n",
       "\n",
       "         SLG       AVG  \n",
       "G   0.484002  0.463894  \n",
       "AB  0.513554  0.497166  \n",
       "R   0.507882  0.476034  \n",
       "H   0.513439  0.497997  \n",
       "2B  0.511973  0.477903  "
      ]
     },
     "execution_count": 57,
     "metadata": {},
     "output_type": "execute_result"
    }
   ],
   "source": [
    "# Matriu de correlacions\n",
    "dades_corr = dades_bat10.iloc[:,3:]\n",
    "corr_matrix = dades_corr.corr()\n",
    "corr_matrix.head()"
   ]
  },
  {
   "cell_type": "code",
   "execution_count": 58,
   "metadata": {},
   "outputs": [
    {
     "data": {
      "image/png": "[encoded data removed]",
      "text/plain": [
       "<Figure size 720x720 with 2 Axes>"
      ]
     },
     "metadata": {
      "needs_background": "light"
     },
     "output_type": "display_data"
    }
   ],
   "source": [
    "# Gràfic de calor de la matriu de correlacions\n",
    "fig, ax = plt.subplots(figsize=(10,10))  \n",
    "\n",
    "ax = sns.heatmap(\n",
    "    corr_matrix, \n",
    "    vmin=-1, vmax=1, center=0,\n",
    "    cmap=sns.diverging_palette(20, 220, n=200),\n",
    "    square=True\n",
    ")\n",
    "ax.set_xticklabels(\n",
    "    ax.get_xticklabels(),\n",
    "    rotation=45,\n",
    "    horizontalalignment='right'\n",
    ");"
   ]
  },
  {
   "cell_type": "markdown",
   "metadata": {},
   "source": [
    "## Exercici 4\n",
    "__Continuant amb les dades de tema esportiu, selecciona un atribut i calcula la mitjana geomètrica i la mitjana harmònica.__"
   ]
  },
  {
   "cell_type": "markdown",
   "metadata": {},
   "source": [
    "<span style='color:blue; font-size:18px'> <b> Càlcul de mitjanes: Partits jugats (G) </b> </span>"
   ]
  },
  {
   "cell_type": "code",
   "execution_count": 59,
   "metadata": {},
   "outputs": [
    {
     "data": {
      "text/plain": [
       "23.349599176875284"
      ]
     },
     "execution_count": 59,
     "metadata": {},
     "output_type": "execute_result"
    }
   ],
   "source": [
    "# Mitjana geomètrica\n",
    "gmean(dades_bat10['G'])"
   ]
  },
  {
   "cell_type": "markdown",
   "metadata": {},
   "source": [
    "<span style='color:blue'> La mitjana geomètrica és de 23.3496 partits jugats </span>"
   ]
  },
  {
   "cell_type": "code",
   "execution_count": 60,
   "metadata": {},
   "outputs": [
    {
     "data": {
      "text/plain": [
       "7.187464926137136"
      ]
     },
     "execution_count": 60,
     "metadata": {},
     "output_type": "execute_result"
    }
   ],
   "source": [
    "# Mitjana harmònica\n",
    "hmean(dades_bat10['G'])"
   ]
  },
  {
   "cell_type": "markdown",
   "metadata": {},
   "source": [
    "<span style='color:blue'> La mitjana harmònica és de 7.1875 partits jugats </span>"
   ]
  }
 ],
 "metadata": {
  "kernelspec": {
   "display_name": "Python 3",
   "language": "python",
   "name": "python3"
  },
  "language_info": {
   "codemirror_mode": {
    "name": "ipython",
    "version": 3
   },
   "file_extension": ".py",
   "mimetype": "text/x-python",
   "name": "python",
   "nbconvert_exporter": "python",
   "pygments_lexer": "ipython3",
   "version": "3.8.5"
  }
 },
 "nbformat": 4,
 "nbformat_minor": 4
}
